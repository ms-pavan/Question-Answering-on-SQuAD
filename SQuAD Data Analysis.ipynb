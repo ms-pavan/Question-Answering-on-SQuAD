{
 "cells": [
  {
   "cell_type": "markdown",
   "metadata": {},
   "source": [
    "## SQuAD Data Analysis"
   ]
  },
  {
   "cell_type": "code",
   "execution_count": 1,
   "metadata": {
    "collapsed": true
   },
   "outputs": [],
   "source": [
    "#load required packages\n",
    "import nltk\n",
    "import os\n",
    "import json\n",
    "import numpy as np\n",
    "import pandas as pd\n",
    "import matplotlib.pyplot as plt\n",
    "%matplotlib inline\n",
    "from access_data import get_data_frame\n",
    "\n"
   ]
  },
  {
   "cell_type": "markdown",
   "metadata": {},
   "source": [
    "### Convert training json data into DataFrame"
   ]
  },
  {
   "cell_type": "code",
   "execution_count": 2,
   "metadata": {
    "collapsed": true
   },
   "outputs": [],
   "source": [
    "curr_dir = os.getcwd()\n",
    "path = ['data','paragraphs','qas','answers']\n",
    "#original = pd.io.json.json_normalize(json.loads(open(curr_dir+'/train-v1.1.json').read()))\n",
    "global original\n",
    "with open(curr_dir+'/train-v1.1.json', 'r') as read_training:\n",
    "    original = json.load(read_training)\n",
    "    #original = json.dumps(read_training)\n",
    "js = pd.io.json.json_normalize(json.loads(open(curr_dir+'/train-v1.1.json').read()),path)\n",
    "m = pd.io.json.json_normalize(json.loads(open(curr_dir+'/train-v1.1.json').read()),path[:-1])\n",
    "r = pd.io.json.json_normalize(json.loads(open(curr_dir+'/train-v1.1.json').read()),path[:-2])\n",
    "idx = np.repeat(r['context'].values, r.qas.str.len())\n",
    "ndx  = np.repeat(m['id'].values,m['answers'].str.len())\n",
    "m['context'] = idx\n",
    "js['q_idx'] = ndx\n",
    "main = pd.concat([m[['id','question', 'context']].set_index('id'),js.set_index('q_idx')],1).reset_index()\n",
    "main['c_id'] = main['context'].factorize()[0]"
   ]
  },
  {
   "cell_type": "code",
   "execution_count": 3,
   "metadata": {},
   "outputs": [
    {
     "data": {
      "text/html": [
       "<div>\n",
       "<style scoped>\n",
       "    .dataframe tbody tr th:only-of-type {\n",
       "        vertical-align: middle;\n",
       "    }\n",
       "\n",
       "    .dataframe tbody tr th {\n",
       "        vertical-align: top;\n",
       "    }\n",
       "\n",
       "    .dataframe thead th {\n",
       "        text-align: right;\n",
       "    }\n",
       "</style>\n",
       "<table border=\"1\" class=\"dataframe\">\n",
       "  <thead>\n",
       "    <tr style=\"text-align: right;\">\n",
       "      <th></th>\n",
       "      <th>index</th>\n",
       "      <th>question</th>\n",
       "      <th>context</th>\n",
       "      <th>answer_start</th>\n",
       "      <th>text</th>\n",
       "      <th>c_id</th>\n",
       "    </tr>\n",
       "  </thead>\n",
       "  <tbody>\n",
       "    <tr>\n",
       "      <th>0</th>\n",
       "      <td>5733be284776f41900661182</td>\n",
       "      <td>To whom did the Virgin Mary allegedly appear i...</td>\n",
       "      <td>Architecturally, the school has a Catholic cha...</td>\n",
       "      <td>515</td>\n",
       "      <td>Saint Bernadette Soubirous</td>\n",
       "      <td>0</td>\n",
       "    </tr>\n",
       "    <tr>\n",
       "      <th>1</th>\n",
       "      <td>5733be284776f4190066117f</td>\n",
       "      <td>What is in front of the Notre Dame Main Building?</td>\n",
       "      <td>Architecturally, the school has a Catholic cha...</td>\n",
       "      <td>188</td>\n",
       "      <td>a copper statue of Christ</td>\n",
       "      <td>0</td>\n",
       "    </tr>\n",
       "    <tr>\n",
       "      <th>2</th>\n",
       "      <td>5733be284776f41900661180</td>\n",
       "      <td>The Basilica of the Sacred heart at Notre Dame...</td>\n",
       "      <td>Architecturally, the school has a Catholic cha...</td>\n",
       "      <td>279</td>\n",
       "      <td>the Main Building</td>\n",
       "      <td>0</td>\n",
       "    </tr>\n",
       "    <tr>\n",
       "      <th>3</th>\n",
       "      <td>5733be284776f41900661181</td>\n",
       "      <td>What is the Grotto at Notre Dame?</td>\n",
       "      <td>Architecturally, the school has a Catholic cha...</td>\n",
       "      <td>381</td>\n",
       "      <td>a Marian place of prayer and reflection</td>\n",
       "      <td>0</td>\n",
       "    </tr>\n",
       "    <tr>\n",
       "      <th>4</th>\n",
       "      <td>5733be284776f4190066117e</td>\n",
       "      <td>What sits on top of the Main Building at Notre...</td>\n",
       "      <td>Architecturally, the school has a Catholic cha...</td>\n",
       "      <td>92</td>\n",
       "      <td>a golden statue of the Virgin Mary</td>\n",
       "      <td>0</td>\n",
       "    </tr>\n",
       "  </tbody>\n",
       "</table>\n",
       "</div>"
      ],
      "text/plain": [
       "                      index  \\\n",
       "0  5733be284776f41900661182   \n",
       "1  5733be284776f4190066117f   \n",
       "2  5733be284776f41900661180   \n",
       "3  5733be284776f41900661181   \n",
       "4  5733be284776f4190066117e   \n",
       "\n",
       "                                            question  \\\n",
       "0  To whom did the Virgin Mary allegedly appear i...   \n",
       "1  What is in front of the Notre Dame Main Building?   \n",
       "2  The Basilica of the Sacred heart at Notre Dame...   \n",
       "3                  What is the Grotto at Notre Dame?   \n",
       "4  What sits on top of the Main Building at Notre...   \n",
       "\n",
       "                                             context  answer_start  \\\n",
       "0  Architecturally, the school has a Catholic cha...           515   \n",
       "1  Architecturally, the school has a Catholic cha...           188   \n",
       "2  Architecturally, the school has a Catholic cha...           279   \n",
       "3  Architecturally, the school has a Catholic cha...           381   \n",
       "4  Architecturally, the school has a Catholic cha...            92   \n",
       "\n",
       "                                      text  c_id  \n",
       "0               Saint Bernadette Soubirous     0  \n",
       "1                a copper statue of Christ     0  \n",
       "2                        the Main Building     0  \n",
       "3  a Marian place of prayer and reflection     0  \n",
       "4       a golden statue of the Virgin Mary     0  "
      ]
     },
     "execution_count": 3,
     "metadata": {},
     "output_type": "execute_result"
    }
   ],
   "source": [
    "main = get_data_frame()\n",
    "main.head()"
   ]
  },
  {
   "cell_type": "code",
   "execution_count": 4,
   "metadata": {},
   "outputs": [
    {
     "name": "stdout",
     "output_type": "stream",
     "text": [
      "number of context = 18896 \n",
      " max words in a context = 653 \n",
      " min words in a context = 20\n",
      "average length of context = 116\n"
     ]
    }
   ],
   "source": [
    "c_len = [len(c.split()) for c in r['context'].values]\n",
    "print('number of context = {} \\n max words in a context = {} \\n min words in a context = {}'\n",
    "      '\\naverage length of context = {}'.format(len(c_len), max(c_len), min(c_len), int(np.mean(c_len))) )       \n"
   ]
  },
  {
   "cell_type": "code",
   "execution_count": null,
   "metadata": {
    "collapsed": true
   },
   "outputs": [],
   "source": []
  },
  {
   "cell_type": "code",
   "execution_count": 5,
   "metadata": {},
   "outputs": [
    {
     "data": {
      "image/png": "[encoded data removed]",
      "text/plain": [
       "<matplotlib.figure.Figure at 0x1c7dd7d8b00>"
      ]
     },
     "metadata": {},
     "output_type": "display_data"
    }
   ],
   "source": [
    "plt.hist(c_len);\n",
    "plt.xlabel('Context Length');\n",
    "plt.ylabel('Frequency');\n",
    "plt.title('Histogram of Context Length');"
   ]
  },
  {
   "cell_type": "code",
   "execution_count": 6,
   "metadata": {},
   "outputs": [
    {
     "name": "stdout",
     "output_type": "stream",
     "text": [
      "number of questions = 87599 \n",
      " max words in a question = 40 \n",
      " min words in a question = 1\n",
      "average length of question = 10\n"
     ]
    }
   ],
   "source": [
    "q_len = [len(ans.split()) for ans in main['question']]\n",
    "print('number of questions = {} \\n max words in a question = {} \\n min words in a question = {}'\n",
    "      '\\naverage length of question = {}'.format(len(q_len), max(q_len), min(q_len),int(np.mean(q_len))))   "
   ]
  },
  {
   "cell_type": "code",
   "execution_count": 7,
   "metadata": {},
   "outputs": [
    {
     "data": {
      "image/png": "[encoded data removed]",
      "text/plain": [
       "<matplotlib.figure.Figure at 0x1c7d80c4f98>"
      ]
     },
     "metadata": {},
     "output_type": "display_data"
    }
   ],
   "source": [
    "plt.hist(q_len);\n",
    "plt.xlabel('Question Length');\n",
    "plt.ylabel('Frequency');\n",
    "plt.title('Histogram of Question Length');"
   ]
  },
  {
   "cell_type": "code",
   "execution_count": 8,
   "metadata": {},
   "outputs": [
    {
     "name": "stdout",
     "output_type": "stream",
     "text": [
      "number of answers = 87599 \n",
      " max words in a answer = 43 \n",
      " min words in a answer = 1\n",
      "average length of answer = 3\n"
     ]
    }
   ],
   "source": [
    "ans_len = [len(ans.split()) for ans in main['text']]\n",
    "print('number of answers = {} \\n max words in a answer = {} \\n min words in a answer = {}'\n",
    "      '\\naverage length of answer = {}'.format(len(ans_len), max(ans_len), min(ans_len),int(np.mean(ans_len))))   "
   ]
  },
  {
   "cell_type": "code",
   "execution_count": 9,
   "metadata": {},
   "outputs": [
    {
     "data": {
      "image/png": "[encoded data removed]",
      "text/plain": [
       "<matplotlib.figure.Figure at 0x1c7dfa3f1d0>"
      ]
     },
     "metadata": {},
     "output_type": "display_data"
    }
   ],
   "source": [
    "plt.hist(ans_len);\n",
    "plt.xlabel('Answer length');\n",
    "plt.ylabel('Frequency');\n",
    "plt.title('Histogram of Answer Length');"
   ]
  },
  {
   "cell_type": "code",
   "execution_count": 10,
   "metadata": {},
   "outputs": [
    {
     "name": "stdout",
     "output_type": "stream",
     "text": [
      "Average number of questions per context = 4\n",
      "min number of questions per context = 1 \n",
      "max number of questions per context = 25\n"
     ]
    }
   ],
   "source": [
    "count = main.groupby(['context']).size().reset_index(name='count')\n",
    "questions_context_len  = np.array(count['count'])\n",
    "print('Average number of questions per context = {}'.format(int(np.mean(questions_context_len))))\n",
    "print('min number of questions per context = {} \\nmax number of questions per context = {}'\n",
    "      .format(min(questions_context_len), max(questions_context_len)))  "
   ]
  },
  {
   "cell_type": "code",
   "execution_count": 11,
   "metadata": {},
   "outputs": [
    {
     "data": {
      "image/png": "[encoded data removed]",
      "text/plain": [
       "<matplotlib.figure.Figure at 0x1c7df0532e8>"
      ]
     },
     "metadata": {},
     "output_type": "display_data"
    }
   ],
   "source": [
    "plt.plot(questions_context_len);\n",
    "plt.xlabel('context');\n",
    "plt.ylabel('Number of questions');\n",
    "plt.title('Questions per context');"
   ]
  },
  {
   "cell_type": "code",
   "execution_count": 12,
   "metadata": {},
   "outputs": [
    {
     "data": {
      "text/plain": [
       "[['Architecturally,',\n",
       "  'the',\n",
       "  'school',\n",
       "  'has',\n",
       "  'a',\n",
       "  'Catholic',\n",
       "  'character.',\n",
       "  'Atop',\n",
       "  'the',\n",
       "  'Main',\n",
       "  \"Building's\",\n",
       "  'gold',\n",
       "  'dome',\n",
       "  'is',\n",
       "  'a',\n",
       "  'golden',\n",
       "  'statue',\n",
       "  'of',\n",
       "  'the',\n",
       "  'Virgin',\n",
       "  'Mary.',\n",
       "  'Immediately',\n",
       "  'in',\n",
       "  'front',\n",
       "  'of',\n",
       "  'the',\n",
       "  'Main',\n",
       "  'Building',\n",
       "  'and',\n",
       "  'facing',\n",
       "  'it,',\n",
       "  'is',\n",
       "  'a',\n",
       "  'copper',\n",
       "  'statue',\n",
       "  'of',\n",
       "  'Christ',\n",
       "  'with',\n",
       "  'arms',\n",
       "  'upraised',\n",
       "  'with',\n",
       "  'the',\n",
       "  'legend',\n",
       "  '\"Venite',\n",
       "  'Ad',\n",
       "  'Me',\n",
       "  'Omnes\".',\n",
       "  'Next',\n",
       "  'to',\n",
       "  'the',\n",
       "  'Main',\n",
       "  'Building',\n",
       "  'is',\n",
       "  'the',\n",
       "  'Basilica',\n",
       "  'of',\n",
       "  'the',\n",
       "  'Sacred',\n",
       "  'Heart.',\n",
       "  'Immediately',\n",
       "  'behind',\n",
       "  'the',\n",
       "  'basilica',\n",
       "  'is',\n",
       "  'the',\n",
       "  'Grotto,',\n",
       "  'a',\n",
       "  'Marian',\n",
       "  'place',\n",
       "  'of',\n",
       "  'prayer',\n",
       "  'and',\n",
       "  'reflection.',\n",
       "  'It',\n",
       "  'is',\n",
       "  'a',\n",
       "  'replica',\n",
       "  'of',\n",
       "  'the',\n",
       "  'grotto',\n",
       "  'at',\n",
       "  'Lourdes,',\n",
       "  'France',\n",
       "  'where',\n",
       "  'the',\n",
       "  'Virgin',\n",
       "  'Mary',\n",
       "  'reputedly',\n",
       "  'appeared',\n",
       "  'to',\n",
       "  'Saint',\n",
       "  'Bernadette',\n",
       "  'Soubirous',\n",
       "  'in',\n",
       "  '1858.',\n",
       "  'At',\n",
       "  'the',\n",
       "  'end',\n",
       "  'of',\n",
       "  'the',\n",
       "  'main',\n",
       "  'drive',\n",
       "  '(and',\n",
       "  'in',\n",
       "  'a',\n",
       "  'direct',\n",
       "  'line',\n",
       "  'that',\n",
       "  'connects',\n",
       "  'through',\n",
       "  '3',\n",
       "  'statues',\n",
       "  'and',\n",
       "  'the',\n",
       "  'Gold',\n",
       "  'Dome),',\n",
       "  'is',\n",
       "  'a',\n",
       "  'simple,',\n",
       "  'modern',\n",
       "  'stone',\n",
       "  'statue',\n",
       "  'of',\n",
       "  'Mary.'],\n",
       " ['As',\n",
       "  'at',\n",
       "  'most',\n",
       "  'other',\n",
       "  'universities,',\n",
       "  'Notre',\n",
       "  \"Dame's\",\n",
       "  'students',\n",
       "  'run',\n",
       "  'a',\n",
       "  'number',\n",
       "  'of',\n",
       "  'news',\n",
       "  'media',\n",
       "  'outlets.',\n",
       "  'The',\n",
       "  'nine',\n",
       "  'student-run',\n",
       "  'outlets',\n",
       "  'include',\n",
       "  'three',\n",
       "  'newspapers,',\n",
       "  'both',\n",
       "  'a',\n",
       "  'radio',\n",
       "  'and',\n",
       "  'television',\n",
       "  'station,',\n",
       "  'and',\n",
       "  'several',\n",
       "  'magazines',\n",
       "  'and',\n",
       "  'journals.',\n",
       "  'Begun',\n",
       "  'as',\n",
       "  'a',\n",
       "  'one-page',\n",
       "  'journal',\n",
       "  'in',\n",
       "  'September',\n",
       "  '1876,',\n",
       "  'the',\n",
       "  'Scholastic',\n",
       "  'magazine',\n",
       "  'is',\n",
       "  'issued',\n",
       "  'twice',\n",
       "  'monthly',\n",
       "  'and',\n",
       "  'claims',\n",
       "  'to',\n",
       "  'be',\n",
       "  'the',\n",
       "  'oldest',\n",
       "  'continuous',\n",
       "  'collegiate',\n",
       "  'publication',\n",
       "  'in',\n",
       "  'the',\n",
       "  'United',\n",
       "  'States.',\n",
       "  'The',\n",
       "  'other',\n",
       "  'magazine,',\n",
       "  'The',\n",
       "  'Juggler,',\n",
       "  'is',\n",
       "  'released',\n",
       "  'twice',\n",
       "  'a',\n",
       "  'year',\n",
       "  'and',\n",
       "  'focuses',\n",
       "  'on',\n",
       "  'student',\n",
       "  'literature',\n",
       "  'and',\n",
       "  'artwork.',\n",
       "  'The',\n",
       "  'Dome',\n",
       "  'yearbook',\n",
       "  'is',\n",
       "  'published',\n",
       "  'annually.',\n",
       "  'The',\n",
       "  'newspapers',\n",
       "  'have',\n",
       "  'varying',\n",
       "  'publication',\n",
       "  'interests,',\n",
       "  'with',\n",
       "  'The',\n",
       "  'Observer',\n",
       "  'published',\n",
       "  'daily',\n",
       "  'and',\n",
       "  'mainly',\n",
       "  'reporting',\n",
       "  'university',\n",
       "  'and',\n",
       "  'other',\n",
       "  'news,',\n",
       "  'and',\n",
       "  'staffed',\n",
       "  'by',\n",
       "  'students',\n",
       "  'from',\n",
       "  'both',\n",
       "  'Notre',\n",
       "  'Dame',\n",
       "  'and',\n",
       "  'Saint',\n",
       "  \"Mary's\",\n",
       "  'College.',\n",
       "  'Unlike',\n",
       "  'Scholastic',\n",
       "  'and',\n",
       "  'The',\n",
       "  'Dome,',\n",
       "  'The',\n",
       "  'Observer',\n",
       "  'is',\n",
       "  'an',\n",
       "  'independent',\n",
       "  'publication',\n",
       "  'and',\n",
       "  'does',\n",
       "  'not',\n",
       "  'have',\n",
       "  'a',\n",
       "  'faculty',\n",
       "  'advisor',\n",
       "  'or',\n",
       "  'any',\n",
       "  'editorial',\n",
       "  'oversight',\n",
       "  'from',\n",
       "  'the',\n",
       "  'University.',\n",
       "  'In',\n",
       "  '1987,',\n",
       "  'when',\n",
       "  'some',\n",
       "  'students',\n",
       "  'believed',\n",
       "  'that',\n",
       "  'The',\n",
       "  'Observer',\n",
       "  'began',\n",
       "  'to',\n",
       "  'show',\n",
       "  'a',\n",
       "  'conservative',\n",
       "  'bias,',\n",
       "  'a',\n",
       "  'liberal',\n",
       "  'newspaper,',\n",
       "  'Common',\n",
       "  'Sense',\n",
       "  'was',\n",
       "  'published.',\n",
       "  'Likewise,',\n",
       "  'in',\n",
       "  '2003,',\n",
       "  'when',\n",
       "  'other',\n",
       "  'students',\n",
       "  'believed',\n",
       "  'that',\n",
       "  'the',\n",
       "  'paper',\n",
       "  'showed',\n",
       "  'a',\n",
       "  'liberal',\n",
       "  'bias,',\n",
       "  'the',\n",
       "  'conservative',\n",
       "  'paper',\n",
       "  'Irish',\n",
       "  'Rover',\n",
       "  'went',\n",
       "  'into',\n",
       "  'production.',\n",
       "  'Neither',\n",
       "  'paper',\n",
       "  'is',\n",
       "  'published',\n",
       "  'as',\n",
       "  'often',\n",
       "  'as',\n",
       "  'The',\n",
       "  'Observer;',\n",
       "  'however,',\n",
       "  'all',\n",
       "  'three',\n",
       "  'are',\n",
       "  'distributed',\n",
       "  'to',\n",
       "  'all',\n",
       "  'students.',\n",
       "  'Finally,',\n",
       "  'in',\n",
       "  'Spring',\n",
       "  '2008',\n",
       "  'an',\n",
       "  'undergraduate',\n",
       "  'journal',\n",
       "  'for',\n",
       "  'political',\n",
       "  'science',\n",
       "  'research,',\n",
       "  'Beyond',\n",
       "  'Politics,',\n",
       "  'made',\n",
       "  'its',\n",
       "  'debut.']]"
      ]
     },
     "execution_count": 12,
     "metadata": {},
     "output_type": "execute_result"
    }
   ],
   "source": [
    "context_words = [(con.split()) for con in r['context'].values]\n",
    "context_words[:2]"
   ]
  },
  {
   "cell_type": "code",
   "execution_count": 13,
   "metadata": {
    "scrolled": true
   },
   "outputs": [
    {
     "data": {
      "text/plain": [
       "[['To',\n",
       "  'whom',\n",
       "  'did',\n",
       "  'the',\n",
       "  'Virgin',\n",
       "  'Mary',\n",
       "  'allegedly',\n",
       "  'appear',\n",
       "  'in',\n",
       "  '1858',\n",
       "  'in',\n",
       "  'Lourdes',\n",
       "  'France?'],\n",
       " ['What',\n",
       "  'is',\n",
       "  'in',\n",
       "  'front',\n",
       "  'of',\n",
       "  'the',\n",
       "  'Notre',\n",
       "  'Dame',\n",
       "  'Main',\n",
       "  'Building?']]"
      ]
     },
     "execution_count": 13,
     "metadata": {},
     "output_type": "execute_result"
    }
   ],
   "source": [
    "question_words = [(ques.split()) for ques in main['question']]\n",
    "question_words[:2]"
   ]
  },
  {
   "cell_type": "code",
   "execution_count": 14,
   "metadata": {},
   "outputs": [
    {
     "data": {
      "text/plain": [
       "[['Saint', 'Bernadette', 'Soubirous'],\n",
       " ['a', 'copper', 'statue', 'of', 'Christ']]"
      ]
     },
     "execution_count": 14,
     "metadata": {},
     "output_type": "execute_result"
    }
   ],
   "source": [
    "ans_words = [(ans.split()) for ans in main['text']]\n",
    "ans_words[:2]"
   ]
  },
  {
   "cell_type": "code",
   "execution_count": 15,
   "metadata": {},
   "outputs": [],
   "source": [
    "c_words = []\n",
    "q_words = []"
   ]
  },
  {
   "cell_type": "code",
   "execution_count": 16,
   "metadata": {},
   "outputs": [],
   "source": [
    "for word in context_words:\n",
    "    for w in word:\n",
    "        c_words.append(w)"
   ]
  },
  {
   "cell_type": "code",
   "execution_count": 17,
   "metadata": {},
   "outputs": [
    {
     "data": {
      "text/plain": [
       "2203849"
      ]
     },
     "execution_count": 17,
     "metadata": {},
     "output_type": "execute_result"
    }
   ],
   "source": [
    "len(c_words)"
   ]
  },
  {
   "cell_type": "code",
   "execution_count": 18,
   "metadata": {},
   "outputs": [],
   "source": [
    "for word in question_words:\n",
    "    for w in word:\n",
    "        q_words.append(w)"
   ]
  },
  {
   "cell_type": "code",
   "execution_count": 19,
   "metadata": {},
   "outputs": [
    {
     "data": {
      "text/plain": [
       "881343"
      ]
     },
     "execution_count": 19,
     "metadata": {},
     "output_type": "execute_result"
    }
   ],
   "source": [
    "len(q_words)"
   ]
  },
  {
   "cell_type": "code",
   "execution_count": 20,
   "metadata": {},
   "outputs": [
    {
     "name": "stdout",
     "output_type": "stream",
     "text": [
      "total number of words = 3085192\n"
     ]
    }
   ],
   "source": [
    "all_words =c_words+ q_words\n",
    "print('total number of words = {}'.format(len(all_words)))"
   ]
  },
  {
   "cell_type": "code",
   "execution_count": 21,
   "metadata": {},
   "outputs": [
    {
     "name": "stdout",
     "output_type": "stream",
     "text": [
      "vocabulary  size = 210007\n"
     ]
    }
   ],
   "source": [
    "vocab = (set(all_words))\n",
    "print('vocabulary  size = {}'.format(len(vocab)))"
   ]
  },
  {
   "cell_type": "code",
   "execution_count": null,
   "metadata": {
    "collapsed": true
   },
   "outputs": [],
   "source": []
  }
 ],
 "metadata": {
  "kernelspec": {
   "display_name": "Python 3",
   "language": "python",
   "name": "python3"
  },
  "language_info": {
   "codemirror_mode": {
    "name": "ipython",
    "version": 3
   },
   "file_extension": ".py",
   "mimetype": "text/x-python",
   "name": "python",
   "nbconvert_exporter": "python",
   "pygments_lexer": "ipython3",
   "version": "3.7.1"
  }
 },
 "nbformat": 4,
 "nbformat_minor": 2
}
